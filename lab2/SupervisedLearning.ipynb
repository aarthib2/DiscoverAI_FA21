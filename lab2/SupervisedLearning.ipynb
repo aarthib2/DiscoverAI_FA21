{
    "metadata": {
        "kernelspec": {
            "name": "python3",
            "display_name": "Python 3 (ipykernel)",
            "language": "python"
        }
    },
    "nbformat": 4,
    "nbformat_minor": 2,
    "cells": [
        {
            "attachments": {},
            "cell_type": "markdown",
            "metadata": {},
            "source": [
                "This code is an introduction to supervised learning solving a classification problem using **decision trees**.\n",
                "It follows [this tutorial](https://youtu.be/7eh4d6sabA0). "
            ]
        },
        {
            "attachments": {},
            "cell_type": "markdown",
            "metadata": {},
            "source": [
                "# **Classification Problem**\n",
                "We will follow these steps of solving a machine learning problem.\n",
                "\n",
                "\n",
                "1. Import the Data\n",
                "2. Clean the Data\n",
                "3. split the Data into Training/ Test steps\n",
                "4. Create a Model\n",
                "5. Train the Model\n",
                "6. Make Predictions\n",
                "7. Evaluate and improve\n",
                ""
            ]
        },
        {
            "attachments": {},
            "cell_type": "markdown",
            "metadata": {},
            "source": [
                "# Problem description\n",
                "Enter in the text cell below what you will be predicting in this classification problem (y) and which columns will be used in the prediction (X)"
            ]
        },
        {
            "attachments": {},
            "cell_type": "markdown",
            "metadata": {},
            "source": [
                ""
            ]
        },
        {
            "cell_type": "code",
            "execution_count": 4,
            "metadata": {},
            "outputs": [],
            "source": [
                "import pandas as pd\n",
                "from sklearn.tree import DecisionTreeClassifier\n",
                "from sklearn.model_selection import train_test_split\n",
                "from sklearn.metrics import accuracy_score\n",
                "import joblib\n",
                "from sklearn import tree"
            ]
        },
        {
            "attachments": {},
            "cell_type": "markdown",
            "metadata": {},
            "source": [
                "1. Import the Data."
            ]
        },
        {
            "cell_type": "code",
            "execution_count": 5,
            "metadata": {},
            "outputs": [
                {
                    "data": {
                        "text/html": "\u003cdiv\u003e\n\u003cstyle scoped\u003e\n    .dataframe tbody tr th:only-of-type {\n        vertical-align: middle;\n    }\n\n    .dataframe tbody tr th {\n        vertical-align: top;\n    }\n\n    .dataframe thead th {\n        text-align: right;\n    }\n\u003c/style\u003e\n\u003ctable border=\"1\" class=\"dataframe\"\u003e\n  \u003cthead\u003e\n    \u003ctr style=\"text-align: right;\"\u003e\n      \u003cth\u003e\u003c/th\u003e\n      \u003cth\u003eRank\u003c/th\u003e\n      \u003cth\u003eSales $\u003c/th\u003e\n      \u003cth\u003eProfit $\u003c/th\u003e\n      \u003cth\u003eAssets $\u003c/th\u003e\n      \u003cth\u003eMarket Value $\u003c/th\u003e\n    \u003c/tr\u003e\n  \u003c/thead\u003e\n  \u003ctbody\u003e\n    \u003ctr\u003e\n      \u003cth\u003e0\u003c/th\u003e\n      \u003ctd\u003e1\u003c/td\u003e\n      \u003ctd\u003e190500000000\u003c/td\u003e\n      \u003ctd\u003e45800000000\u003c/td\u003e\n      \u003ctd\u003e4914700000000\u003c/td\u003e\n      \u003ctd\u003e249500000000\u003c/td\u003e\n    \u003c/tr\u003e\n    \u003ctr\u003e\n      \u003cth\u003e1\u003c/th\u003e\n      \u003ctd\u003e2\u003c/td\u003e\n      \u003ctd\u003e136200000000\u003c/td\u003e\n      \u003ctd\u003e40400000000\u003c/td\u003e\n      \u003ctd\u003e3689300000000\u003c/td\u003e\n      \u003ctd\u003e464800000000\u003c/td\u003e\n    \u003c/tr\u003e\n    \u003ctr\u003e\n      \u003cth\u003e2\u003c/th\u003e\n      \u003ctd\u003e3\u003c/td\u003e\n      \u003ctd\u003e245500000000\u003c/td\u003e\n      \u003ctd\u003e42500000000\u003c/td\u003e\n      \u003ctd\u003e873700000000\u003c/td\u003e\n      \u003ctd\u003e624400000000\u003c/td\u003e\n    \u003c/tr\u003e\n    \u003ctr\u003e\n      \u003cth\u003e3\u003c/th\u003e\n      \u003ctd\u003e4\u003c/td\u003e\n      \u003ctd\u003e173500000000\u003c/td\u003e\n      \u003ctd\u003e39300000000\u003c/td\u003e\n      \u003ctd\u003e4301700000000\u003c/td\u003e\n      \u003ctd\u003e210400000000\u003c/td\u003e\n    \u003c/tr\u003e\n    \u003ctr\u003e\n      \u003cth\u003e4\u003c/th\u003e\n      \u003ctd\u003e5\u003c/td\u003e\n      \u003ctd\u003e229700000000\u003c/td\u003e\n      \u003ctd\u003e49300000000\u003c/td\u003e\n      \u003ctd\u003e510300000000\u003c/td\u003e\n      \u003ctd\u003e1897200000000\u003c/td\u003e\n    \u003c/tr\u003e\n    \u003ctr\u003e\n      \u003cth\u003e...\u003c/th\u003e\n      \u003ctd\u003e...\u003c/td\u003e\n      \u003ctd\u003e...\u003c/td\u003e\n      \u003ctd\u003e...\u003c/td\u003e\n      \u003ctd\u003e...\u003c/td\u003e\n      \u003ctd\u003e...\u003c/td\u003e\n    \u003c/tr\u003e\n    \u003ctr\u003e\n      \u003cth\u003e495\u003c/th\u003e\n      \u003ctd\u003e496\u003c/td\u003e\n      \u003ctd\u003e9900000000\u003c/td\u003e\n      \u003ctd\u003e2600000000\u003c/td\u003e\n      \u003ctd\u003e17700000000\u003c/td\u003e\n      \u003ctd\u003e94700000000\u003c/td\u003e\n    \u003c/tr\u003e\n    \u003ctr\u003e\n      \u003cth\u003e496\u003c/th\u003e\n      \u003ctd\u003e497\u003c/td\u003e\n      \u003ctd\u003e19000000000\u003c/td\u003e\n      \u003ctd\u003e401300000\u003c/td\u003e\n      \u003ctd\u003e48400000000\u003c/td\u003e\n      \u003ctd\u003e66800000000\u003c/td\u003e\n    \u003c/tr\u003e\n    \u003ctr\u003e\n      \u003cth\u003e497\u003c/th\u003e\n      \u003ctd\u003e498\u003c/td\u003e\n      \u003ctd\u003e9400000000\u003c/td\u003e\n      \u003ctd\u003e1400000000\u003c/td\u003e\n      \u003ctd\u003e89700000000\u003c/td\u003e\n      \u003ctd\u003e17600000000\u003c/td\u003e\n    \u003c/tr\u003e\n    \u003ctr\u003e\n      \u003cth\u003e498\u003c/th\u003e\n      \u003ctd\u003e499\u003c/td\u003e\n      \u003ctd\u003e7300000000\u003c/td\u003e\n      \u003ctd\u003e1300000000\u003c/td\u003e\n      \u003ctd\u003e170300000000\u003c/td\u003e\n      \u003ctd\u003e20000000000\u003c/td\u003e\n    \u003c/tr\u003e\n    \u003ctr\u003e\n      \u003cth\u003e499\u003c/th\u003e\n      \u003ctd\u003e500\u003c/td\u003e\n      \u003ctd\u003e8300000000\u003c/td\u003e\n      \u003ctd\u003e1800000000\u003c/td\u003e\n      \u003ctd\u003e38100000000\u003c/td\u003e\n      \u003ctd\u003e34000000000\u003c/td\u003e\n    \u003c/tr\u003e\n  \u003c/tbody\u003e\n\u003c/table\u003e\n\u003cp\u003e500 rows × 5 columns\u003c/p\u003e\n\u003c/div\u003e",
                        "text/plain": "     Rank       Sales $     Profit $       Assets $  Market Value $\n0       1  190500000000  45800000000  4914700000000    249500000000\n1       2  136200000000  40400000000  3689300000000    464800000000\n2       3  245500000000  42500000000   873700000000    624400000000\n3       4  173500000000  39300000000  4301700000000    210400000000\n4       5  229700000000  49300000000   510300000000   1897200000000\n..    ...           ...          ...            ...             ...\n495   496    9900000000   2600000000    17700000000     94700000000\n496   497   19000000000    401300000    48400000000     66800000000\n497   498    9400000000   1400000000    89700000000     17600000000\n498   499    7300000000   1300000000   170300000000     20000000000\n499   500    8300000000   1800000000    38100000000     34000000000\n\n[500 rows x 5 columns]"
                    },
                    "execution_count": 5,
                    "metadata": {},
                    "output_type": "execute_result"
                }
            ],
            "source": [
                "df = pd.read_csv('cleanedfile.csv')\n",
                "df = df.drop(columns = ['Name', 'Country'])\n",
                "df"
            ]
        },
        {
            "attachments": {},
            "cell_type": "markdown",
            "metadata": {},
            "source": [
                "2. Display columns and describe the data set"
            ]
        },
        {
            "cell_type": "code",
            "execution_count": 6,
            "metadata": {},
            "outputs": [
                {
                    "name": "stdout",
                    "output_type": "stream",
                    "text": "\u003cclass 'pandas.core.frame.DataFrame'\u003e\nRangeIndex: 500 entries, 0 to 499\nData columns (total 5 columns):\n #   Column          Non-Null Count  Dtype\n---  ------          --------------  -----\n 0   Rank            500 non-null    int64\n 1   Sales $         500 non-null    int64\n 2   Profit $        500 non-null    int64\n 3   Assets $        500 non-null    int64\n 4   Market Value $  500 non-null    int64\ndtypes: int64(5)\nmemory usage: 19.7 KB\n"
                }
            ],
            "source": [
                "df.info()"
            ]
        },
        {
            "cell_type": "code",
            "execution_count": 7,
            "metadata": {},
            "outputs": [
                {
                    "data": {
                        "text/html": "\u003cdiv\u003e\n\u003cstyle scoped\u003e\n    .dataframe tbody tr th:only-of-type {\n        vertical-align: middle;\n    }\n\n    .dataframe tbody tr th {\n        vertical-align: top;\n    }\n\n    .dataframe thead th {\n        text-align: right;\n    }\n\u003c/style\u003e\n\u003ctable border=\"1\" class=\"dataframe\"\u003e\n  \u003cthead\u003e\n    \u003ctr style=\"text-align: right;\"\u003e\n      \u003cth\u003e\u003c/th\u003e\n      \u003cth\u003eRank\u003c/th\u003e\n      \u003cth\u003eSales $\u003c/th\u003e\n      \u003cth\u003eProfit $\u003c/th\u003e\n      \u003cth\u003eAssets $\u003c/th\u003e\n      \u003cth\u003eMarket Value $\u003c/th\u003e\n    \u003c/tr\u003e\n  \u003c/thead\u003e\n  \u003ctbody\u003e\n    \u003ctr\u003e\n      \u003cth\u003ecount\u003c/th\u003e\n      \u003ctd\u003e500.000000\u003c/td\u003e\n      \u003ctd\u003e5.000000e+02\u003c/td\u003e\n      \u003ctd\u003e5.000000e+02\u003c/td\u003e\n      \u003ctd\u003e5.000000e+02\u003c/td\u003e\n      \u003ctd\u003e5.000000e+02\u003c/td\u003e\n    \u003c/tr\u003e\n    \u003ctr\u003e\n      \u003cth\u003emean\u003c/th\u003e\n      \u003ctd\u003e250.500000\u003c/td\u003e\n      \u003ctd\u003e4.979460e+10\u003c/td\u003e\n      \u003ctd\u003e4.173743e+09\u003c/td\u003e\n      \u003ctd\u003e3.229280e+11\u003c/td\u003e\n      \u003ctd\u003e1.048094e+11\u003c/td\u003e\n    \u003c/tr\u003e\n    \u003ctr\u003e\n      \u003cth\u003estd\u003c/th\u003e\n      \u003ctd\u003e144.481833\u003c/td\u003e\n      \u003ctd\u003e5.545579e+10\u003c/td\u003e\n      \u003ctd\u003e7.457710e+09\u003c/td\u003e\n      \u003ctd\u003e6.310834e+11\u003c/td\u003e\n      \u003ctd\u003e2.080702e+11\u003c/td\u003e\n    \u003c/tr\u003e\n    \u003ctr\u003e\n      \u003cth\u003emin\u003c/th\u003e\n      \u003ctd\u003e1.000000\u003c/td\u003e\n      \u003ctd\u003e4.900000e+09\u003c/td\u003e\n      \u003ctd\u003e-2.240000e+10\u003c/td\u003e\n      \u003ctd\u003e1.480000e+10\u003c/td\u003e\n      \u003ctd\u003e1.500000e+09\u003c/td\u003e\n    \u003c/tr\u003e\n    \u003ctr\u003e\n      \u003cth\u003e25%\u003c/th\u003e\n      \u003ctd\u003e125.750000\u003c/td\u003e\n      \u003ctd\u003e1.807500e+10\u003c/td\u003e\n      \u003ctd\u003e1.400000e+09\u003c/td\u003e\n      \u003ctd\u003e4.837500e+10\u003c/td\u003e\n      \u003ctd\u003e2.895000e+10\u003c/td\u003e\n    \u003c/tr\u003e\n    \u003ctr\u003e\n      \u003cth\u003e50%\u003c/th\u003e\n      \u003ctd\u003e250.500000\u003c/td\u003e\n      \u003ctd\u003e3.140000e+10\u003c/td\u003e\n      \u003ctd\u003e2.500000e+09\u003c/td\u003e\n      \u003ctd\u003e1.092000e+11\u003c/td\u003e\n      \u003ctd\u003e5.235000e+10\u003c/td\u003e\n    \u003c/tr\u003e\n    \u003ctr\u003e\n      \u003cth\u003e75%\u003c/th\u003e\n      \u003ctd\u003e375.250000\u003c/td\u003e\n      \u003ctd\u003e5.825000e+10\u003c/td\u003e\n      \u003ctd\u003e4.725000e+09\u003c/td\u003e\n      \u003ctd\u003e2.984750e+11\u003c/td\u003e\n      \u003ctd\u003e1.041000e+11\u003c/td\u003e\n    \u003c/tr\u003e\n    \u003ctr\u003e\n      \u003cth\u003emax\u003c/th\u003e\n      \u003ctd\u003e500.000000\u003c/td\u003e\n      \u003ctd\u003e5.592000e+11\u003c/td\u003e\n      \u003ctd\u003e6.390000e+10\u003c/td\u003e\n      \u003ctd\u003e4.914700e+12\u003c/td\u003e\n      \u003ctd\u003e2.252300e+12\u003c/td\u003e\n    \u003c/tr\u003e\n  \u003c/tbody\u003e\n\u003c/table\u003e\n\u003c/div\u003e",
                        "text/plain": "             Rank       Sales $      Profit $      Assets $  Market Value $\ncount  500.000000  5.000000e+02  5.000000e+02  5.000000e+02    5.000000e+02\nmean   250.500000  4.979460e+10  4.173743e+09  3.229280e+11    1.048094e+11\nstd    144.481833  5.545579e+10  7.457710e+09  6.310834e+11    2.080702e+11\nmin      1.000000  4.900000e+09 -2.240000e+10  1.480000e+10    1.500000e+09\n25%    125.750000  1.807500e+10  1.400000e+09  4.837500e+10    2.895000e+10\n50%    250.500000  3.140000e+10  2.500000e+09  1.092000e+11    5.235000e+10\n75%    375.250000  5.825000e+10  4.725000e+09  2.984750e+11    1.041000e+11\nmax    500.000000  5.592000e+11  6.390000e+10  4.914700e+12    2.252300e+12"
                    },
                    "execution_count": 7,
                    "metadata": {},
                    "output_type": "execute_result"
                }
            ],
            "source": [
                "df.describe()"
            ]
        },
        {
            "attachments": {},
            "cell_type": "markdown",
            "metadata": {},
            "source": [
                "3. Prepare Data"
            ]
        },
        {
            "cell_type": "code",
            "execution_count": 8,
            "metadata": {},
            "outputs": [
                {
                    "data": {
                        "text/html": "\u003cdiv\u003e\n\u003cstyle scoped\u003e\n    .dataframe tbody tr th:only-of-type {\n        vertical-align: middle;\n    }\n\n    .dataframe tbody tr th {\n        vertical-align: top;\n    }\n\n    .dataframe thead th {\n        text-align: right;\n    }\n\u003c/style\u003e\n\u003ctable border=\"1\" class=\"dataframe\"\u003e\n  \u003cthead\u003e\n    \u003ctr style=\"text-align: right;\"\u003e\n      \u003cth\u003e\u003c/th\u003e\n      \u003cth\u003eRank\u003c/th\u003e\n      \u003cth\u003eSales $\u003c/th\u003e\n      \u003cth\u003eAssets $\u003c/th\u003e\n      \u003cth\u003eMarket Value $\u003c/th\u003e\n    \u003c/tr\u003e\n  \u003c/thead\u003e\n  \u003ctbody\u003e\n    \u003ctr\u003e\n      \u003cth\u003e0\u003c/th\u003e\n      \u003ctd\u003e1\u003c/td\u003e\n      \u003ctd\u003e190500000000\u003c/td\u003e\n      \u003ctd\u003e4914700000000\u003c/td\u003e\n      \u003ctd\u003e249500000000\u003c/td\u003e\n    \u003c/tr\u003e\n    \u003ctr\u003e\n      \u003cth\u003e1\u003c/th\u003e\n      \u003ctd\u003e2\u003c/td\u003e\n      \u003ctd\u003e136200000000\u003c/td\u003e\n      \u003ctd\u003e3689300000000\u003c/td\u003e\n      \u003ctd\u003e464800000000\u003c/td\u003e\n    \u003c/tr\u003e\n    \u003ctr\u003e\n      \u003cth\u003e2\u003c/th\u003e\n      \u003ctd\u003e3\u003c/td\u003e\n      \u003ctd\u003e245500000000\u003c/td\u003e\n      \u003ctd\u003e873700000000\u003c/td\u003e\n      \u003ctd\u003e624400000000\u003c/td\u003e\n    \u003c/tr\u003e\n    \u003ctr\u003e\n      \u003cth\u003e3\u003c/th\u003e\n      \u003ctd\u003e4\u003c/td\u003e\n      \u003ctd\u003e173500000000\u003c/td\u003e\n      \u003ctd\u003e4301700000000\u003c/td\u003e\n      \u003ctd\u003e210400000000\u003c/td\u003e\n    \u003c/tr\u003e\n    \u003ctr\u003e\n      \u003cth\u003e4\u003c/th\u003e\n      \u003ctd\u003e5\u003c/td\u003e\n      \u003ctd\u003e229700000000\u003c/td\u003e\n      \u003ctd\u003e510300000000\u003c/td\u003e\n      \u003ctd\u003e1897200000000\u003c/td\u003e\n    \u003c/tr\u003e\n    \u003ctr\u003e\n      \u003cth\u003e...\u003c/th\u003e\n      \u003ctd\u003e...\u003c/td\u003e\n      \u003ctd\u003e...\u003c/td\u003e\n      \u003ctd\u003e...\u003c/td\u003e\n      \u003ctd\u003e...\u003c/td\u003e\n    \u003c/tr\u003e\n    \u003ctr\u003e\n      \u003cth\u003e495\u003c/th\u003e\n      \u003ctd\u003e496\u003c/td\u003e\n      \u003ctd\u003e9900000000\u003c/td\u003e\n      \u003ctd\u003e17700000000\u003c/td\u003e\n      \u003ctd\u003e94700000000\u003c/td\u003e\n    \u003c/tr\u003e\n    \u003ctr\u003e\n      \u003cth\u003e496\u003c/th\u003e\n      \u003ctd\u003e497\u003c/td\u003e\n      \u003ctd\u003e19000000000\u003c/td\u003e\n      \u003ctd\u003e48400000000\u003c/td\u003e\n      \u003ctd\u003e66800000000\u003c/td\u003e\n    \u003c/tr\u003e\n    \u003ctr\u003e\n      \u003cth\u003e497\u003c/th\u003e\n      \u003ctd\u003e498\u003c/td\u003e\n      \u003ctd\u003e9400000000\u003c/td\u003e\n      \u003ctd\u003e89700000000\u003c/td\u003e\n      \u003ctd\u003e17600000000\u003c/td\u003e\n    \u003c/tr\u003e\n    \u003ctr\u003e\n      \u003cth\u003e498\u003c/th\u003e\n      \u003ctd\u003e499\u003c/td\u003e\n      \u003ctd\u003e7300000000\u003c/td\u003e\n      \u003ctd\u003e170300000000\u003c/td\u003e\n      \u003ctd\u003e20000000000\u003c/td\u003e\n    \u003c/tr\u003e\n    \u003ctr\u003e\n      \u003cth\u003e499\u003c/th\u003e\n      \u003ctd\u003e500\u003c/td\u003e\n      \u003ctd\u003e8300000000\u003c/td\u003e\n      \u003ctd\u003e38100000000\u003c/td\u003e\n      \u003ctd\u003e34000000000\u003c/td\u003e\n    \u003c/tr\u003e\n  \u003c/tbody\u003e\n\u003c/table\u003e\n\u003cp\u003e500 rows × 4 columns\u003c/p\u003e\n\u003c/div\u003e",
                        "text/plain": "     Rank       Sales $       Assets $  Market Value $\n0       1  190500000000  4914700000000    249500000000\n1       2  136200000000  3689300000000    464800000000\n2       3  245500000000   873700000000    624400000000\n3       4  173500000000  4301700000000    210400000000\n4       5  229700000000   510300000000   1897200000000\n..    ...           ...            ...             ...\n495   496    9900000000    17700000000     94700000000\n496   497   19000000000    48400000000     66800000000\n497   498    9400000000    89700000000     17600000000\n498   499    7300000000   170300000000     20000000000\n499   500    8300000000    38100000000     34000000000\n\n[500 rows x 4 columns]"
                    },
                    "execution_count": 8,
                    "metadata": {},
                    "output_type": "execute_result"
                }
            ],
            "source": [
                "# Run this section to inspect X\n",
                "X = df.drop(columns = ['Profit $'])\n",
                "X"
            ]
        },
        {
            "cell_type": "code",
            "execution_count": 9,
            "metadata": {},
            "outputs": [
                {
                    "data": {
                        "text/plain": "0      45800000000\n1      40400000000\n2      42500000000\n3      39300000000\n4      49300000000\n          ...     \n495     2600000000\n496      401300000\n497     1400000000\n498     1300000000\n499     1800000000\nName: Profit $, Length: 500, dtype: int64"
                    },
                    "execution_count": 9,
                    "metadata": {},
                    "output_type": "execute_result"
                }
            ],
            "source": [
                "# Uncomment this section to inpect y\n",
                "y = df['Profit $']\n",
                "y"
            ]
        },
        {
            "attachments": {},
            "cell_type": "markdown",
            "metadata": {},
            "source": [
                "4. Calculate accuracy"
            ]
        },
        {
            "cell_type": "code",
            "execution_count": 10,
            "metadata": {},
            "outputs": [
                {
                    "data": {
                        "text/plain": "0.01"
                    },
                    "execution_count": 10,
                    "metadata": {},
                    "output_type": "execute_result"
                }
            ],
            "source": [
                "# Train 80% of the data set and use the rest to test\n",
                "X_train, X_test, y_train, y_test = train_test_split(\n",
                "                                    X, y, test_size=0.2)\n",
                "\n",
                "model = DecisionTreeClassifier()\n",
                "model.fit(X_train, y_train)\n",
                "predictions = model.predict(X_test)\n",
                "\n",
                "# Compute model accuracy\n",
                "score = accuracy_score(y_test, predictions)\n",
                "score"
            ]
        },
        {
            "attachments": {},
            "cell_type": "markdown",
            "metadata": {},
            "source": [
                "5. Persisting Models"
            ]
        },
        {
            "cell_type": "code",
            "execution_count": 11,
            "metadata": {},
            "outputs": [
                {
                    "data": {
                        "text/plain": "['MARKET.joblib']"
                    },
                    "execution_count": 11,
                    "metadata": {},
                    "output_type": "execute_result"
                }
            ],
            "source": [
                "# Save the model to file\n",
                "joblib.dump(model, 'MARKET.joblib')\n",
                "\n",
                ""
            ]
        },
        {
            "attachments": {},
            "cell_type": "markdown",
            "metadata": {},
            "source": [
                "5.b. Import the model and make predictions"
            ]
        },
        {
            "cell_type": "code",
            "execution_count": 12,
            "metadata": {},
            "outputs": [
                {
                    "data": {
                        "text/plain": "array([  2800000000,   3000000000,   8200000000,   5400000000,\n        14100000000,   1600000000,   8500000000,   3200000000,\n         1000000000,   1500000000,     33100000,   6300000000,\n         1800000000,   1200000000,   5600000000,   4700000000,\n         1900000000,   3100000000,   6200000000,   1500000000,\n        40300000000,   9300000000,  -5000000000,   3100000000,\n         2700000000,   5700000000,   3100000000,   1300000000,\n         1400000000,  45800000000,   1500000000,   3600000000,\n         3400000000,  17100000000,   2100000000,    767200000,\n         4300000000,   5200000000,  27900000000,   6200000000,\n         7500000000,  14700000000,  10100000000,    739000000,\n        -1300000000,   9700000000,   1200000000,   2500000000,\n         1500000000,   2500000000,  12900000000,   3800000000,\n         2900000000,   1500000000,   4700000000,   1600000000,\n         2500000000,   5400000000,   3100000000, -22200000000,\n          767200000,   1200000000,   3700000000,   5100000000,\n         2000000000,  11800000000,    566600000,   4700000000,\n         1400000000,   2500000000,    559200000,   1700000000,\n         3600000000,   3900000000,   5500000000,   3900000000,\n         9700000000,    869400000,  14900000000,   1700000000,\n          972800000,   5300000000,  -5000000000,  10400000000,\n         1300000000,   1400000000,   2000000000,  63900000000,\n         1300000000,   2300000000,   1800000000,   9700000000,\n          972800000,    559200000,   1500000000, -22200000000,\n         1300000000,   3200000000,   1000000000,   3800000000])"
                    },
                    "execution_count": 12,
                    "metadata": {},
                    "output_type": "execute_result"
                }
            ],
            "source": [
                "# Load saved model. Make sure that you have run the previous\n",
                "# section at least once, and that the file exists.\n",
                "\n",
                "model = joblib.load('MARKET.joblib')\n",
                "predictions = model.predict(X_test)\n",
                "predictions"
            ]
        },
        {
            "attachments": {},
            "cell_type": "markdown",
            "metadata": {},
            "source": [
                "6. (Optional) Visualize decision trees"
            ]
        },
        {
            "cell_type": "code",
            "execution_count": 15,
            "metadata": {},
            "outputs": [],
            "source": [
                "tree.export_graphviz(model, out_file = 'MODELNAME.dot',\n",
                "                    feature_names = X.columns, \n",
                "                    class_names = str(sorted(y.unique())), \n",
                "                    label = 'all',\n",
                "                    rounded = True, \n",
                "                    filled = True)\n",
                "\n",
                "#Download the file music-recommender.dot and open it in VS Code.\n",
                ""
            ]
        }
    ]
}
